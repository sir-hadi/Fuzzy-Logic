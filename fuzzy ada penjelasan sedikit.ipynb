{
  "nbformat": 4,
  "nbformat_minor": 0,
  "metadata": {
    "orig_nbformat": 2,
    "kernelspec": {
      "name": "python3",
      "display_name": "Python 3"
    },
    "colab": {
      "name": "fuzzy.ipynb",
      "provenance": [],
      "collapsed_sections": [
        "Q2luUy1Y3So0"
      ],
      "toc_visible": true
    }
  },
  "cells": [
    {
      "cell_type": "markdown",
      "metadata": {
        "id": "B6xif1VnUeHa"
      },
      "source": [
        "Fuzzy Logic Algorithm  by Abdullah Hadi"
      ]
    },
    {
      "cell_type": "markdown",
      "metadata": {
        "id": "YZTJXOPxUJjZ"
      },
      "source": [
        "### Import necessery module"
      ]
    },
    {
      "cell_type": "code",
      "metadata": {
        "id": "BVjv3WCfCqsR",
        "colab": {
          "base_uri": "https://localhost:8080/"
        },
        "outputId": "2c71daa2-24fa-47b2-8f9a-76b87e50b98a"
      },
      "source": [
        "import pandas as pd\n",
        "import numpy as np\n",
        "import matplotlib.pyplot as plt\n",
        "df = pd.read_excel('Mahasiswa.xls')\n",
        "data = df.to_numpy().copy()\n",
        "print(data)"
      ],
      "execution_count": null,
      "outputs": [
        {
          "output_type": "stream",
          "text": [
            "[[  1.    18.76   9.68]\n",
            " [  2.     8.35   4.52]\n",
            " [  3.    17.03  10.11]\n",
            " [  4.     8.23   9.25]\n",
            " [  5.    16.89   6.99]\n",
            " [  6.    15.19   7.2 ]\n",
            " [  7.     9.03   9.35]\n",
            " [  8.    17.99   7.1 ]\n",
            " [  9.    17.09  10.54]\n",
            " [ 10.    18.43   7.74]\n",
            " [ 11.     5.78   6.66]\n",
            " [ 12.    14.29   8.06]\n",
            " [ 13.     5.55   6.35]\n",
            " [ 14.    13.06   8.82]\n",
            " [ 15.    17.69   8.17]\n",
            " [ 16.    12.39   9.78]\n",
            " [ 17.    16.6    9.78]\n",
            " [ 18.    15.57   9.68]\n",
            " [ 19.     9.96   4.48]\n",
            " [ 20.    19.62   8.28]\n",
            " [ 21.    15.29   9.89]\n",
            " [ 22.    18.71   9.46]\n",
            " [ 23.    14.42   8.49]\n",
            " [ 24.    19.27  10.21]\n",
            " [ 25.     6.48   7.85]\n",
            " [ 26.    14.     9.46]\n",
            " [ 27.    16.32   7.42]\n",
            " [ 28.    18.03   6.77]\n",
            " [ 29.    17.58  10.21]\n",
            " [ 30.    18.47   8.6 ]\n",
            " [ 31.    18.7    9.57]\n",
            " [ 32.    16.54   8.28]\n",
            " [ 33.     7.03  10.11]\n",
            " [ 34.    17.81   6.56]\n",
            " [ 35.    17.02   7.53]\n",
            " [ 36.    13.92   7.2 ]\n",
            " [ 37.    13.52   9.46]\n",
            " [ 38.     9.94  10.82]\n",
            " [ 39.     8.02   4.65]\n",
            " [ 40.    16.32   9.78]\n",
            " [ 41.     4.62   6.88]\n",
            " [ 42.    14.06  10.43]\n",
            " [ 43.    14.03  10.  ]\n",
            " [ 44.    17.37   9.68]\n",
            " [ 45.    16.97   9.46]\n",
            " [ 46.     9.58  10.04]\n",
            " [ 47.     9.63   9.78]\n",
            " [ 48.     9.02   3.76]\n",
            " [ 49.     9.52  10.93]\n",
            " [ 50.     9.31  11.29]\n",
            " [ 51.    15.77   7.42]\n",
            " [ 52.     9.1    9.57]\n",
            " [ 53.    14.75   7.31]\n",
            " [ 54.    16.22   8.06]\n",
            " [ 55.    16.29   9.14]\n",
            " [ 56.    13.81   9.25]\n",
            " [ 57.    17.87  10.  ]\n",
            " [ 58.    18.87  10.64]\n",
            " [ 59.     8.2    3.55]\n",
            " [ 60.     9.32   5.16]\n",
            " [ 61.     9.26   3.91]\n",
            " [ 62.    13.31  10.32]\n",
            " [ 63.     9.29   9.25]\n",
            " [ 64.    18.28  10.  ]\n",
            " [ 65.    13.11  10.32]\n",
            " [ 66.     9.63   9.78]\n",
            " [ 67.    13.67   7.1 ]\n",
            " [ 68.    14.34   8.92]\n",
            " [ 69.     9.86  10.43]\n",
            " [ 70.    17.68   7.63]\n",
            " [ 71.    14.97   7.74]\n",
            " [ 72.     9.71   4.81]\n",
            " [ 73.    15.76   8.06]\n",
            " [ 74.     8.52   3.98]\n",
            " [ 75.     5.09   7.53]\n",
            " [ 76.    12.17   7.2 ]\n",
            " [ 77.    16.52   8.71]\n",
            " [ 78.    15.95   7.53]\n",
            " [ 79.     8.52  10.32]\n",
            " [ 80.    15.92   7.31]\n",
            " [ 81.     9.18   9.46]\n",
            " [ 82.    17.58  10.54]\n",
            " [ 83.    17.88  10.64]\n",
            " [ 84.    14.86   8.6 ]\n",
            " [ 85.    14.93   8.28]\n",
            " [ 86.    14.7    8.6 ]\n",
            " [ 87.    18.19   7.63]\n",
            " [ 88.    16.08   7.85]\n",
            " [ 89.    15.44   8.28]\n",
            " [ 90.    19.69   8.06]\n",
            " [ 91.    15.58   7.31]\n",
            " [ 92.    19.23   8.17]\n",
            " [ 93.     9.47   4.84]\n",
            " [ 94.     9.07  10.21]\n",
            " [ 95.    16.9    7.42]\n",
            " [ 96.    17.31  10.  ]\n",
            " [ 97.    18.85   9.78]\n",
            " [ 98.    14.52  10.32]\n",
            " [ 99.     9.83  10.64]\n",
            " [100.     7.84   3.44]]\n"
          ],
          "name": "stdout"
        }
      ]
    },
    {
      "cell_type": "markdown",
      "metadata": {
        "id": "J9rmmxGGutfs"
      },
      "source": [
        "### Get a max/min value of a multi dimension array NOICE\n",
        "Alurnya gini, dia argmax tuh nyari index array dengan value tertinggi serta melihat axis 0 yang kalo gak salah tuh secara horizontal bisa di lihat di code \"data[np.argmax(data, axis=0)]\" dimana itu output sejumlah row dengan nilai maksimum setiap column"
      ]
    },
    {
      "cell_type": "code",
      "metadata": {
        "id": "PdO0KXKWqh8u",
        "colab": {
          "base_uri": "https://localhost:8080/"
        },
        "outputId": "230c92f3-6dfd-4133-c433-6cc75383c15d"
      },
      "source": [
        "np.amax(data, axis=0)"
      ],
      "execution_count": null,
      "outputs": [
        {
          "output_type": "execute_result",
          "data": {
            "text/plain": [
              "array([100.  ,  19.69,  11.29])"
            ]
          },
          "metadata": {
            "tags": []
          },
          "execution_count": 2
        }
      ]
    },
    {
      "cell_type": "code",
      "metadata": {
        "id": "u6g7o-APsuqo",
        "colab": {
          "base_uri": "https://localhost:8080/"
        },
        "outputId": "ca864ff2-06df-4c94-d810-bec5ede02fcd"
      },
      "source": [
        "np.argmax(data, axis=0)"
      ],
      "execution_count": null,
      "outputs": [
        {
          "output_type": "execute_result",
          "data": {
            "text/plain": [
              "array([99, 89, 49])"
            ]
          },
          "metadata": {
            "tags": []
          },
          "execution_count": 3
        }
      ]
    },
    {
      "cell_type": "code",
      "metadata": {
        "id": "qEhQBcSss8i5",
        "colab": {
          "base_uri": "https://localhost:8080/"
        },
        "outputId": "6210c8be-84aa-45ee-b6e0-763d30b626bd"
      },
      "source": [
        "data[np.argmin(data, axis=0)[2]]"
      ],
      "execution_count": null,
      "outputs": [
        {
          "output_type": "execute_result",
          "data": {
            "text/plain": [
              "array([100.  ,   7.84,   3.44])"
            ]
          },
          "metadata": {
            "tags": []
          },
          "execution_count": 4
        }
      ]
    },
    {
      "cell_type": "code",
      "metadata": {
        "id": "sCaou381woDG"
      },
      "source": [
        "#data = np.delete(data,np.argmax(data, axis=0)[2],0)"
      ],
      "execution_count": null,
      "outputs": []
    },
    {
      "cell_type": "markdown",
      "metadata": {
        "id": "ex-vGjRjCqsp"
      },
      "source": [
        "### Membership Functions income"
      ]
    },
    {
      "cell_type": "code",
      "metadata": {
        "id": "GgTol49nCqss"
      },
      "source": [
        "def income_rich(x,a=12,b=15):\n",
        "    if x <= a: return 0\n",
        "    if x > a and x < b: return ((x-a)/(b-a))\n",
        "    if x >= b: return 1\n",
        "\n",
        "\n",
        "def income_upper(x,a=8,b=10,c=12,d=15):\n",
        "    if x <= a: return 0\n",
        "    if x > a and x < b: return ((x-a)/(b-a))\n",
        "    if x >= b and x <= c : return 1\n",
        "    if x > c and x <= d : \n",
        "        return -((x-d)/(d-c)) \n",
        "    elif x >= d: \n",
        "        return 0\n",
        "\n",
        "\n",
        "def income_mid(x,a=6,b=7,c=8,d=10):\n",
        "    if x <= a: return 0\n",
        "    if x > a and x < b: return ((x-a)/(b-a))\n",
        "    if x >= b and x <= c : return 1\n",
        "    if x > c and x <= d : \n",
        "        return -((x-d)/(d-c)) \n",
        "    elif x >= d: \n",
        "        return 0\n",
        "\n",
        "\n",
        "def income_bottom(x,c=5,d=6):\n",
        "    if x <= c: return 1\n",
        "    if x > c and x <= d: \n",
        "        return -((x-d)/(d-c)) \n",
        "    elif x >= d: \n",
        "        return 0"
      ],
      "execution_count": null,
      "outputs": []
    },
    {
      "cell_type": "code",
      "metadata": {
        "id": "lwCxC6qMoHDp",
        "colab": {
          "base_uri": "https://localhost:8080/",
          "height": 303
        },
        "outputId": "44b8a6a4-4d9a-4894-c1f0-40424a0fdb4c"
      },
      "source": [
        "x1 = [4,5,6,17]\n",
        "y1 = [1,1,0,0]\n",
        "\n",
        "x2 = [4,5,6,7,8,10,12,15,17]\n",
        "y2 = [0,0,0,1,1,0,0,0,0]\n",
        "\n",
        "x3 = [4,5,6,7,8,10,12,15,17]\n",
        "y3 = [0,0,0,0,0,1,1,0,0]\n",
        "\n",
        "x4 = [4,5,6,7,8,10,12,15,17]\n",
        "y4 = [0,0,0,0,0,0,0,1,1]\n",
        "\n",
        "plt.figure(figsize=(10,4))\n",
        "plt.xticks([5,6,7,8,10,12,15,99])\n",
        "plt.title(\"Keanggotaan Penghasilan\",fontsize=20) \n",
        "\n",
        "plt.plot(x1, y1, label='Bottom')\n",
        "plt.plot(x2, y2, label='Mid')\n",
        "plt.plot(x3, y3, label='Upper')\n",
        "plt.plot(x4, y4, label='Rich')\n",
        "plt.legend()"
      ],
      "execution_count": null,
      "outputs": [
        {
          "output_type": "execute_result",
          "data": {
            "text/plain": [
              "<matplotlib.legend.Legend at 0x7fda331c0f60>"
            ]
          },
          "metadata": {
            "tags": []
          },
          "execution_count": 7
        },
        {
          "output_type": "display_data",
          "data": {
            "image/png": "[encoded data removed]",
            "text/plain": [
              "<Figure size 720x288 with 1 Axes>"
            ]
          },
          "metadata": {
            "tags": [],
            "needs_background": "light"
          }
        }
      ]
    },
    {
      "cell_type": "markdown",
      "metadata": {
        "id": "sX8TDeroTZxc"
      },
      "source": [
        "### Membership Functions  expense"
      ]
    },
    {
      "cell_type": "code",
      "metadata": {
        "id": "JcL1x-0sCqs4"
      },
      "source": [
        "def expense_inflated(x,a=12,b=15):\n",
        "    if x <= a: return 0\n",
        "    if x > a and x < b: return ((x-a)/(b-a))\n",
        "    if x >= b: return 1\n",
        "\n",
        "def expense_high(x,a=8,b=10,c=12,d=15):\n",
        "    if x <= a: return 0\n",
        "    if x > a and x < b: return ((x-a)/(b-a))\n",
        "    if x >= b and x <= c : return 1\n",
        "    if x > c and x <= d : \n",
        "        return -((x-d)/(d-c)) \n",
        "    elif x >= d: \n",
        "        return 0\n",
        "\n",
        "\n",
        "def expense_avg(x,a=4,b=7,c=8,d=10):\n",
        "    x = float(x)\n",
        "    if x <= a: return 0\n",
        "    if x > a and x < b: return ((x-a)/(b-a))\n",
        "    if x >= b and x <= c : return 1\n",
        "    if x > c and x <= d : \n",
        "        return -((x-d)/(d-c)) \n",
        "    elif x >= d: \n",
        "        return 0\n",
        "\n",
        "\n",
        "def expense_low(x,c=3,d=5):\n",
        "    x = float(x)\n",
        "    if x <= c: return 1\n",
        "    if x > c and x <= d: \n",
        "        return -((x-d)/(d-c)) \n",
        "    elif x >= d: \n",
        "        return 0\n",
        "\n"
      ],
      "execution_count": null,
      "outputs": []
    },
    {
      "cell_type": "code",
      "metadata": {
        "id": "SD6WQYfYq9e3",
        "colab": {
          "base_uri": "https://localhost:8080/",
          "height": 303
        },
        "outputId": "e997491c-39a6-49e0-f36e-0a5f814bebc1"
      },
      "source": [
        "x1 = [2,3,4,5,17]\n",
        "y1 = [1,1,0.5,0,0]\n",
        "\n",
        "x2 = [2,4,7,8,10,17]\n",
        "y2 = [0,0,1,1,0,0]\n",
        "\n",
        "x3 = [2,8,10,12,15,17]\n",
        "y3 = [0,0,1,1,0,0]\n",
        "\n",
        "x4 = [2,10,12,15,17]\n",
        "y4 = [0,0,0,1,1]\n",
        "\n",
        "\n",
        "plt.figure(figsize=(10,4))\n",
        "plt.xticks([3,4,5,7,8,10,12,15,99])\n",
        "plt.title(\"Keangotaan Pengeluaran\", fontSize=20)\n",
        "\n",
        "plt.plot(x1, y1, label='Low')\n",
        "plt.plot(x2, y2, label='Avg')\n",
        "plt.plot(x3, y3, label='High')\n",
        "plt.plot(x4, y4, label='Inflated')\n",
        "plt.legend()"
      ],
      "execution_count": null,
      "outputs": [
        {
          "output_type": "execute_result",
          "data": {
            "text/plain": [
              "<matplotlib.legend.Legend at 0x7fda32cca3c8>"
            ]
          },
          "metadata": {
            "tags": []
          },
          "execution_count": 9
        },
        {
          "output_type": "display_data",
          "data": {
            "image/png": "[encoded data removed]",
            "text/plain": [
              "<Figure size 720x288 with 1 Axes>"
            ]
          },
          "metadata": {
            "tags": [],
            "needs_background": "light"
          }
        }
      ]
    },
    {
      "cell_type": "markdown",
      "metadata": {
        "id": "0Wgvt1DoTwuV"
      },
      "source": [
        "### Fuzzification "
      ]
    },
    {
      "cell_type": "code",
      "metadata": {
        "id": "3bd0T7kvCqs_"
      },
      "source": [
        "def fuzzification_income(value_income):\n",
        "    income_set = {}\n",
        "    income_set['rich'] = income_rich(value_income)\n",
        "    income_set['upper'] = income_upper(value_income)\n",
        "    income_set['mid'] = income_mid(value_income)\n",
        "    income_set['bottom'] = income_bottom(value_income)\n",
        "    return income_set\n",
        "\n",
        "\n",
        "def fuzzification_expense(value_expense):\n",
        "    expense_set = {}\n",
        "    expense_set['inflated'] = expense_inflated(value_expense)\n",
        "    expense_set['high'] = expense_high(value_expense)\n",
        "    expense_set['avg'] = expense_avg(value_expense)\n",
        "    expense_set['low'] = expense_low(value_expense)\n",
        "    return expense_set"
      ],
      "execution_count": null,
      "outputs": []
    },
    {
      "cell_type": "code",
      "metadata": {
        "id": "japWN8JCQiI6",
        "colab": {
          "base_uri": "https://localhost:8080/"
        },
        "outputId": "69c1ea54-b86a-460f-953c-179e82ae9130"
      },
      "source": [
        "fuzzification_income(9.1)"
      ],
      "execution_count": null,
      "outputs": [
        {
          "output_type": "execute_result",
          "data": {
            "text/plain": [
              "{'bottom': 0,\n",
              " 'mid': 0.4500000000000002,\n",
              " 'rich': 0,\n",
              " 'upper': 0.5499999999999998}"
            ]
          },
          "metadata": {
            "tags": []
          },
          "execution_count": 11
        }
      ]
    },
    {
      "cell_type": "code",
      "metadata": {
        "id": "f3c86VhPZSec",
        "colab": {
          "base_uri": "https://localhost:8080/"
        },
        "outputId": "77d869a9-3f61-4082-bf2f-cae6dd8c36f6"
      },
      "source": [
        "fuzzification_expense(9.1)"
      ],
      "execution_count": null,
      "outputs": [
        {
          "output_type": "execute_result",
          "data": {
            "text/plain": [
              "{'avg': 0.4500000000000002,\n",
              " 'high': 0.5499999999999998,\n",
              " 'inflated': 0,\n",
              " 'low': 0}"
            ]
          },
          "metadata": {
            "tags": []
          },
          "execution_count": 12
        }
      ]
    },
    {
      "cell_type": "markdown",
      "metadata": {
        "id": "Q2luUy1Y3So0"
      },
      "source": [
        "### Inference Step"
      ]
    },
    {
      "cell_type": "code",
      "metadata": {
        "id": "dy3UHee-Zs5s"
      },
      "source": [
        "#income_set,  expense_set\n",
        "def inference(income_set,  expense_set):\n",
        "  inference_set = {'yes': [],'consider': [], 'no': []}\n",
        "\n",
        "  inference_set['yes'].append(min(income_set['bottom'],expense_set['low']))\n",
        "  inference_set['yes'].append(min(income_set['bottom'],expense_set['avg']))\n",
        "  inference_set['yes'].append(min(income_set['bottom'],expense_set['high']))\n",
        "  inference_set['yes'].append(min(income_set['bottom'],expense_set['inflated']))\n",
        "\n",
        "  inference_set['consider'].append(min(income_set['mid'],expense_set['low']))\n",
        "  inference_set['yes'].append(min(income_set['mid'],expense_set['avg']))\n",
        "  inference_set['yes'].append(min(income_set['mid'],expense_set['high']))\n",
        "  inference_set['yes'].append(min(income_set['mid'],expense_set['inflated']))\n",
        "  \n",
        "  inference_set['no'].append(min(income_set['upper'],expense_set['low']))\n",
        "  inference_set['consider'].append(min(income_set['upper'],expense_set['avg']))\n",
        "  inference_set['yes'].append(min(income_set['upper'],expense_set['high']))\n",
        "  inference_set['yes'].append(min(income_set['upper'],expense_set['inflated']))\n",
        "\n",
        "  inference_set['no'].append(min(income_set['rich'],expense_set['low']))\n",
        "  inference_set['no'].append(min(income_set['rich'],expense_set['avg']))\n",
        "  inference_set['consider'].append(min(income_set['rich'],expense_set['high']))\n",
        "  inference_set['yes'].append(min(income_set['rich'],expense_set['inflated']))\n",
        "\n",
        "  inference_set['yes'] = max(inference_set['yes'])\n",
        "  inference_set['consider'] = max(inference_set['consider'])\n",
        "  inference_set['no'] = max(inference_set['no'])\n",
        "\n",
        "  return inference_set\n",
        "\n"
      ],
      "execution_count": null,
      "outputs": []
    },
    {
      "cell_type": "code",
      "metadata": {
        "id": "WYXJi7Ce_ZpT",
        "colab": {
          "base_uri": "https://localhost:8080/"
        },
        "outputId": "d958b14f-1956-4a68-998a-2ad73106ffb8"
      },
      "source": [
        "inference(fuzzification_income(18.7), fuzzification_expense(9.3))"
      ],
      "execution_count": null,
      "outputs": [
        {
          "output_type": "execute_result",
          "data": {
            "text/plain": [
              "{'consider': 0.6500000000000004, 'no': 0.34999999999999964, 'yes': 0}"
            ]
          },
          "metadata": {
            "tags": []
          },
          "execution_count": 14
        }
      ]
    },
    {
      "cell_type": "markdown",
      "metadata": {
        "id": "uAFcfzcS2ee_"
      },
      "source": [
        "### Membership function for mamdani/the random generated number"
      ]
    },
    {
      "cell_type": "code",
      "metadata": {
        "id": "2V8I4xRK2e5e"
      },
      "source": [
        "def yes(x,max,a=60,b=70):\n",
        "    yes = 0\n",
        "    if x <= a: return 0\n",
        "    if x > a and x < b and ((x-a)/(b-a)) <= max: \n",
        "      return ((x-a)/(b-a))\n",
        "    else:\n",
        "      return max\n",
        "    if x >= b: return max\n",
        "    \n",
        "def consider(x,max,a=40,b=50,c=60):\n",
        "    if x<=a or x>=c: return 0\n",
        "    if x>a and x<=b: return ((x-a)/(b-a))\n",
        "    if x>b and x<=c: return -((x-c)/(c-b))\n",
        "\n",
        "def no(x,max,c=40,d=60):\n",
        "    x = float(x)\n",
        "    if x <= c: return max\n",
        "    if x > c and x <= d and -((x-d)/(d-c)) <= max: \n",
        "        return -((x-d)/(d-c))\n",
        "    elif x >= d: \n",
        "        return 0\n",
        "    else:\n",
        "      return max"
      ],
      "execution_count": null,
      "outputs": []
    },
    {
      "cell_type": "code",
      "metadata": {
        "id": "0HHOgXmuMUiA"
      },
      "source": [
        ""
      ],
      "execution_count": null,
      "outputs": []
    },
    {
      "cell_type": "code",
      "metadata": {
        "id": "npzJ1Ev9Mm9t",
        "colab": {
          "base_uri": "https://localhost:8080/",
          "height": 303
        },
        "outputId": "15a154f6-6e75-4c5e-a28d-f218c7e0dfcd"
      },
      "source": [
        "x1 = [30,40,60,80]\n",
        "y1 = [1,1,0,0]\n",
        "\n",
        "x2 = [30,40,50,60,70,80]\n",
        "y2 = [0,0,0,1,0,0]\n",
        "\n",
        "x3 = [30,60,70,80]\n",
        "y3 = [0,0,1,1]\n",
        "\n",
        "\n",
        "plt.figure(figsize=(10,4))\n",
        "plt.xticks([0,40,50,60,70,99])\n",
        "plt.title(\"Keangotaan Output\", fontSize=20)\n",
        "\n",
        "plt.plot(x1, y1, label='No')\n",
        "plt.plot(x2, y2, label='Consider')\n",
        "plt.plot(x3, y3, label='Yes')\n",
        "plt.legend()"
      ],
      "execution_count": null,
      "outputs": [
        {
          "output_type": "execute_result",
          "data": {
            "text/plain": [
              "<matplotlib.legend.Legend at 0x7fda328e7f60>"
            ]
          },
          "metadata": {
            "tags": []
          },
          "execution_count": 38
        },
        {
          "output_type": "display_data",
          "data": {
            "image/png": "[encoded data removed]",
            "text/plain": [
              "<Figure size 720x288 with 1 Axes>"
            ]
          },
          "metadata": {
            "tags": [],
            "needs_background": "light"
          }
        }
      ]
    },
    {
      "cell_type": "markdown",
      "metadata": {
        "id": "nvIcCJ0VIgYm"
      },
      "source": [
        "### Defuzzyfication"
      ]
    },
    {
      "cell_type": "code",
      "metadata": {
        "id": "cRwtOPEIKUTq",
        "colab": {
          "base_uri": "https://localhost:8080/"
        },
        "outputId": "c70e7796-7706-4d56-c2e7-140d8eddce2a"
      },
      "source": [
        "print(np.random.randint(11))"
      ],
      "execution_count": null,
      "outputs": [
        {
          "output_type": "stream",
          "text": [
            "5\n"
          ],
          "name": "stdout"
        }
      ]
    },
    {
      "cell_type": "code",
      "metadata": {
        "id": "V2QsYPFVJarI"
      },
      "source": [
        "random_number = np.random.randint(11)\n",
        "random_set = np.arange(random_number,100,random_number)"
      ],
      "execution_count": null,
      "outputs": []
    },
    {
      "cell_type": "code",
      "metadata": {
        "id": "LaCkJUOXPAa-",
        "colab": {
          "base_uri": "https://localhost:8080/"
        },
        "outputId": "d61df3f5-5921-4c10-abaa-7fdcb69e28ca"
      },
      "source": [
        "print(random_set)"
      ],
      "execution_count": null,
      "outputs": [
        {
          "output_type": "stream",
          "text": [
            "[ 2  4  6  8 10 12 14 16 18 20 22 24 26 28 30 32 34 36 38 40 42 44 46 48\n",
            " 50 52 54 56 58 60 62 64 66 68 70 72 74 76 78 80 82 84 86 88 90 92 94 96\n",
            " 98]\n"
          ],
          "name": "stdout"
        }
      ]
    },
    {
      "cell_type": "code",
      "metadata": {
        "id": "a5_03OPMR4Ld",
        "colab": {
          "base_uri": "https://localhost:8080/"
        },
        "outputId": "a057825e-e129-4b77-e656-c0236e1f8e04"
      },
      "source": [
        "arr1 = np.zeros(random_set.shape)\n",
        "print(arr1)\n",
        "arr1[1] = 1\n",
        "print(arr1)"
      ],
      "execution_count": null,
      "outputs": [
        {
          "output_type": "stream",
          "text": [
            "[0. 0. 0. 0. 0. 0. 0. 0. 0. 0. 0. 0. 0. 0. 0. 0. 0. 0. 0. 0. 0. 0. 0. 0.\n",
            " 0. 0. 0. 0. 0. 0. 0. 0. 0. 0. 0. 0. 0. 0. 0. 0. 0. 0. 0. 0. 0. 0. 0. 0.\n",
            " 0.]\n",
            "[0. 1. 0. 0. 0. 0. 0. 0. 0. 0. 0. 0. 0. 0. 0. 0. 0. 0. 0. 0. 0. 0. 0. 0.\n",
            " 0. 0. 0. 0. 0. 0. 0. 0. 0. 0. 0. 0. 0. 0. 0. 0. 0. 0. 0. 0. 0. 0. 0. 0.\n",
            " 0.]\n"
          ],
          "name": "stdout"
        }
      ]
    },
    {
      "cell_type": "code",
      "metadata": {
        "id": "SlkMLKFjea3H",
        "colab": {
          "base_uri": "https://localhost:8080/"
        },
        "outputId": "fd274447-7ce6-4034-f623-4ec2c2c6ba53"
      },
      "source": [
        "print(random_set.size)"
      ],
      "execution_count": null,
      "outputs": [
        {
          "output_type": "stream",
          "text": [
            "49\n"
          ],
          "name": "stdout"
        }
      ]
    },
    {
      "cell_type": "code",
      "metadata": {
        "id": "hSvoE1Dl_eSK"
      },
      "source": [
        "def defuzzification(inference_set, random_set):\n",
        "  defuz_set = {'no': np.zeros(random_set.size), \n",
        "               'consider': np.zeros(random_set.size), \n",
        "               'yes': np.zeros(random_set.size)}\n",
        "\n",
        "  for i in range(random_set.size):\n",
        "    defuz_set['yes'][i] = yes(random_set[i],inference_set['yes'])\n",
        "    defuz_set['consider'][i] = consider(random_set[i],inference_set['consider'])\n",
        "    defuz_set['no'][i] = no(random_set[i],inference_set['no'])\n",
        "\n",
        "  defuz_semi = np.zeros(random_set.size)\n",
        "  for i in range(random_set.size):\n",
        "    defuz_semi[i] = max(defuz_set['yes'][i], defuz_set['consider'][i], defuz_set['no'][i])\n",
        "\n",
        "  multiplication_set = random_set * defuz_semi\n",
        "  result = np.sum(multiplication_set)/np.sum(defuz_semi)\n",
        "\n",
        "  defuz_set.clear\n",
        "  # delete(defuz_semi)\n",
        "  # multiplication_set.clear\n",
        "\n",
        "  return result\n"
      ],
      "execution_count": null,
      "outputs": []
    },
    {
      "cell_type": "code",
      "metadata": {
        "id": "Gi621EshJYpc",
        "colab": {
          "base_uri": "https://localhost:8080/"
        },
        "outputId": "9a31abcc-0d50-4109-8701-a71e8eacf678"
      },
      "source": [
        "inf = inference(fuzzification_income(1.03), fuzzification_expense(6.3))\n",
        "print(inf)\n",
        "defuzzification(inf, random_set)"
      ],
      "execution_count": null,
      "outputs": [
        {
          "output_type": "stream",
          "text": [
            "{'yes': 0.7666666666666666, 'consider': 0, 'no': 0}\n"
          ],
          "name": "stdout"
        },
        {
          "output_type": "execute_result",
          "data": {
            "text/plain": [
              "72.87364620938628"
            ]
          },
          "metadata": {
            "tags": []
          },
          "execution_count": 22
        }
      ]
    },
    {
      "cell_type": "code",
      "metadata": {
        "id": "6DxXF7UcR2EA",
        "colab": {
          "base_uri": "https://localhost:8080/"
        },
        "outputId": "6f8dd115-6dd8-445c-f5bc-d189d387e65e"
      },
      "source": [
        "data.shape"
      ],
      "execution_count": null,
      "outputs": [
        {
          "output_type": "execute_result",
          "data": {
            "text/plain": [
              "(100, 3)"
            ]
          },
          "metadata": {
            "tags": []
          },
          "execution_count": 23
        }
      ]
    },
    {
      "cell_type": "code",
      "metadata": {
        "id": "rRvx7Aa6-XUe"
      },
      "source": [
        "data_fuz = np.pad(data,((0,0),(0,1)), mode='constant', constant_values= 0)"
      ],
      "execution_count": null,
      "outputs": []
    },
    {
      "cell_type": "markdown",
      "metadata": {
        "id": "dh8ZoHKgTrap"
      },
      "source": [
        "### Main Program"
      ]
    },
    {
      "cell_type": "code",
      "metadata": {
        "id": "7MIS77lDOvZX"
      },
      "source": [
        "def fuzzy_system(data):\n",
        "  for i in range(data.shape[0]):\n",
        "    income = fuzzification_income(data[i,1])\n",
        "    expense = fuzzification_expense(data[i,2])\n",
        "\n",
        "    inference_set =  inference(income, expense)\n",
        "\n",
        "    result = defuzzification(inference_set, random_set)\n",
        "\n",
        "    data[i,3] = result\n",
        "\n",
        "  return data\n"
      ],
      "execution_count": null,
      "outputs": []
    },
    {
      "cell_type": "code",
      "metadata": {
        "id": "08PUN57vSToy",
        "colab": {
          "base_uri": "https://localhost:8080/"
        },
        "outputId": "95ecd3f3-6b09-4ed1-d425-a89117294bd0"
      },
      "source": [
        "fuzzy_system(data_fuz)"
      ],
      "execution_count": null,
      "outputs": [
        {
          "output_type": "execute_result",
          "data": {
            "text/plain": [
              "array([[  1.        ,  18.76      ,   9.68      ,  38.68292683],\n",
              "       [  2.        ,   8.35      ,   4.52      ,  49.77105709],\n",
              "       [  3.        ,  17.03      ,  10.11      ,  50.        ],\n",
              "       [  4.        ,   8.23      ,   9.25      ,  71.45679012],\n",
              "       [  5.        ,  16.89      ,   6.99      ,  27.55867347],\n",
              "       [  6.        ,  15.19      ,   7.2       ,  27.54198473],\n",
              "       [  7.        ,   9.03      ,   9.35      ,  70.07384187],\n",
              "       [  8.        ,  17.99      ,   7.1       ,  27.54198473],\n",
              "       [  9.        ,  17.09      ,  10.54      ,  50.        ],\n",
              "       [ 10.        ,  18.43      ,   7.74      ,  27.54198473],\n",
              "       [ 11.        ,   5.78      ,   6.66      ,  63.66375546],\n",
              "       [ 12.        ,  14.29      ,   8.06      ,  30.20795853],\n",
              "       [ 13.        ,   5.55      ,   6.35      ,  69.07924528],\n",
              "       [ 14.        ,  13.06      ,   8.82      ,  51.25720061],\n",
              "       [ 15.        ,  17.69      ,   8.17      ,  27.99591837],\n",
              "       [ 16.        ,  12.39      ,   9.78      ,  68.51235955],\n",
              "       [ 17.        ,  16.6       ,   9.78      ,  41.13888889],\n",
              "       [ 18.        ,  15.57      ,   9.68      ,  38.68292683],\n",
              "       [ 19.        ,   9.96      ,   4.48      ,  36.85338346],\n",
              "       [ 20.        ,  19.62      ,   8.28      ,  28.30136986],\n",
              "       [ 21.        ,  15.29      ,   9.89      ,  44.7704918 ],\n",
              "       [ 22.        ,  18.71      ,   9.46      ,  34.98949379],\n",
              "       [ 23.        ,  14.42      ,   8.49      ,  36.49616678],\n",
              "       [ 24.        ,  19.27      ,  10.21      ,  50.        ],\n",
              "       [ 25.        ,   6.48      ,   7.85      ,  69.55813953],\n",
              "       [ 26.        ,  14.        ,   9.46      ,  51.87402519],\n",
              "       [ 27.        ,  16.32      ,   7.42      ,  27.54198473],\n",
              "       [ 28.        ,  18.03      ,   6.77      ,  27.94864865],\n",
              "       [ 29.        ,  17.58      ,  10.21      ,  50.        ],\n",
              "       [ 30.        ,  18.47      ,   8.6       ,  29.28643216],\n",
              "       [ 31.        ,  18.7       ,   9.57      ,  36.60010735],\n",
              "       [ 32.        ,  16.54      ,   8.28      ,  28.30136986],\n",
              "       [ 33.        ,   7.03      ,  10.11      ,  74.63636364],\n",
              "       [ 34.        ,  17.81      ,   6.56      ,  28.33936262],\n",
              "       [ 35.        ,  17.02      ,   7.53      ,  27.54198473],\n",
              "       [ 36.        ,  13.92      ,   7.2       ,  29.68034557],\n",
              "       [ 37.        ,  13.52      ,   9.46      ,  56.1271201 ],\n",
              "       [ 38.        ,   9.94      ,  10.82      ,  74.44083527],\n",
              "       [ 39.        ,   8.02      ,   4.65      ,  62.6344086 ],\n",
              "       [ 40.        ,  16.32      ,   9.78      ,  41.13888889],\n",
              "       [ 41.        ,   4.62      ,   6.88      ,  74.37383178],\n",
              "       [ 42.        ,  14.06      ,  10.43      ,  66.35055351],\n",
              "       [ 43.        ,  14.03      ,  10.        ,  66.58983666],\n",
              "       [ 44.        ,  17.37      ,   9.68      ,  38.68292683],\n",
              "       [ 45.        ,  16.97      ,   9.46      ,  34.98949379],\n",
              "       [ 46.        ,   9.58      ,  10.04      ,  73.07430998],\n",
              "       [ 47.        ,   9.63      ,   9.78      ,  73.28478544],\n",
              "       [ 48.        ,   9.02      ,   3.76      ,  30.86171575],\n",
              "       [ 49.        ,   9.52      ,  10.93      ,  72.81481481],\n",
              "       [ 50.        ,   9.31      ,  11.29      ,  71.78896882],\n",
              "       [ 51.        ,  15.77      ,   7.42      ,  27.54198473],\n",
              "       [ 52.        ,   9.1       ,   9.57      ,  70.54849498],\n",
              "       [ 53.        ,  14.75      ,   7.31      ,  27.98641304],\n",
              "       [ 54.        ,  16.22      ,   8.06      ,  27.6953125 ],\n",
              "       [ 55.        ,  16.29      ,   9.14      ,  31.86002886],\n",
              "       [ 56.        ,  13.81      ,   9.25      ,  50.24181864],\n",
              "       [ 57.        ,  17.87      ,  10.        ,  50.        ],\n",
              "       [ 58.        ,  18.87      ,  10.64      ,  50.        ],\n",
              "       [ 59.        ,   8.2       ,   3.55      ,  41.71428571],\n",
              "       [ 60.        ,   9.32      ,   5.16      ,  66.97173145],\n",
              "       [ 61.        ,   9.26      ,   3.91      ,  30.4923734 ],\n",
              "       [ 62.        ,  13.31      ,  10.32      ,  70.71952559],\n",
              "       [ 63.        ,   9.29      ,   9.25      ,  71.45679012],\n",
              "       [ 64.        ,  18.28      ,  10.        ,  50.        ],\n",
              "       [ 65.        ,  13.11      ,  10.32      ,  71.51351351],\n",
              "       [ 66.        ,   9.63      ,   9.78      ,  73.28478544],\n",
              "       [ 67.        ,  13.67      ,   7.1       ,  30.37685222],\n",
              "       [ 68.        ,  14.34      ,   8.92      ,  40.62622309],\n",
              "       [ 69.        ,   9.86      ,  10.43      ,  74.16706444],\n",
              "       [ 70.        ,  17.68      ,   7.63      ,  27.54198473],\n",
              "       [ 71.        ,  14.97      ,   7.74      ,  27.59230769],\n",
              "       [ 72.        ,   9.71      ,   4.81      ,  52.85344381],\n",
              "       [ 73.        ,  15.76      ,   8.06      ,  27.6953125 ],\n",
              "       [ 74.        ,   8.52      ,   3.98      ,  35.25536062],\n",
              "       [ 75.        ,   5.09      ,   7.53      ,  74.02421308],\n",
              "       [ 76.        ,  12.17      ,   7.2       ,  44.64130435],\n",
              "       [ 77.        ,  16.52      ,   8.71      ,  29.64529112],\n",
              "       [ 78.        ,  15.95      ,   7.53      ,  27.54198473],\n",
              "       [ 79.        ,   8.52      ,  10.32      ,  72.63414634],\n",
              "       [ 80.        ,  15.92      ,   7.31      ,  27.54198473],\n",
              "       [ 81.        ,   9.18      ,   9.46      ,  71.04670505],\n",
              "       [ 82.        ,  17.58      ,  10.54      ,  50.        ],\n",
              "       [ 83.        ,  17.88      ,  10.64      ,  50.        ],\n",
              "       [ 84.        ,  14.86      ,   8.6       ,  31.44964721],\n",
              "       [ 85.        ,  14.93      ,   8.28      ,  29.2642487 ],\n",
              "       [ 86.        ,  14.7       ,   8.6       ,  33.70642202],\n",
              "       [ 87.        ,  18.19      ,   7.63      ,  27.54198473],\n",
              "       [ 88.        ,  16.08      ,   7.85      ,  27.54198473],\n",
              "       [ 89.        ,  15.44      ,   8.28      ,  28.30136986],\n",
              "       [ 90.        ,  19.69      ,   8.06      ,  27.6953125 ],\n",
              "       [ 91.        ,  15.58      ,   7.31      ,  27.54198473],\n",
              "       [ 92.        ,  19.23      ,   8.17      ,  27.99591837],\n",
              "       [ 93.        ,   9.47      ,   4.84      ,  58.97752809],\n",
              "       [ 94.        ,   9.07      ,  10.21      ,  70.34977884],\n",
              "       [ 95.        ,  16.9       ,   7.42      ,  27.54198473],\n",
              "       [ 96.        ,  17.31      ,  10.        ,  50.        ],\n",
              "       [ 97.        ,  18.85      ,   9.78      ,  41.13888889],\n",
              "       [ 98.        ,  14.52      ,  10.32      ,  61.34328358],\n",
              "       [ 99.        ,   9.83      ,  10.64      ,  74.06031363],\n",
              "       [100.        ,   7.84      ,   3.44      ,  50.        ]])"
            ]
          },
          "metadata": {
            "tags": []
          },
          "execution_count": 26
        }
      ]
    },
    {
      "cell_type": "code",
      "metadata": {
        "id": "js7H0HvtVewZ"
      },
      "source": [
        "def get_20(data):\n",
        "  chosen_20 = []\n",
        "  for i in range(20):\n",
        "    chosen_20.append(data[np.argmax(data, axis=0)[3]])\n",
        "    data = np.delete(data,np.argmax(data, axis=0)[3],0)\n",
        "\n",
        "  return np.array(chosen_20)\n"
      ],
      "execution_count": null,
      "outputs": []
    },
    {
      "cell_type": "code",
      "metadata": {
        "id": "06yL0LO9WRJw",
        "colab": {
          "base_uri": "https://localhost:8080/"
        },
        "outputId": "49640fb9-5c07-489d-f207-f7a0fe1fa0a3"
      },
      "source": [
        "the_chosen_20 = get_20(data_fuz)\n",
        "print(the_chosen_20)"
      ],
      "execution_count": null,
      "outputs": [
        {
          "output_type": "stream",
          "text": [
            "[[33.          7.03       10.11       74.63636364]\n",
            " [38.          9.94       10.82       74.44083527]\n",
            " [41.          4.62        6.88       74.37383178]\n",
            " [69.          9.86       10.43       74.16706444]\n",
            " [99.          9.83       10.64       74.06031363]\n",
            " [75.          5.09        7.53       74.02421308]\n",
            " [47.          9.63        9.78       73.28478544]\n",
            " [66.          9.63        9.78       73.28478544]\n",
            " [46.          9.58       10.04       73.07430998]\n",
            " [49.          9.52       10.93       72.81481481]\n",
            " [79.          8.52       10.32       72.63414634]\n",
            " [50.          9.31       11.29       71.78896882]\n",
            " [65.         13.11       10.32       71.51351351]\n",
            " [ 4.          8.23        9.25       71.45679012]\n",
            " [63.          9.29        9.25       71.45679012]\n",
            " [81.          9.18        9.46       71.04670505]\n",
            " [62.         13.31       10.32       70.71952559]\n",
            " [52.          9.1         9.57       70.54849498]\n",
            " [94.          9.07       10.21       70.34977884]\n",
            " [ 7.          9.03        9.35       70.07384187]]\n"
          ],
          "name": "stdout"
        }
      ]
    },
    {
      "cell_type": "code",
      "metadata": {
        "id": "Cs3HlJHMZb78",
        "colab": {
          "base_uri": "https://localhost:8080/"
        },
        "outputId": "93685aaf-58f0-4cd7-877c-0ab8e4701c49"
      },
      "source": [
        "the_chosen_20.shape"
      ],
      "execution_count": null,
      "outputs": [
        {
          "output_type": "execute_result",
          "data": {
            "text/plain": [
              "(20, 4)"
            ]
          },
          "metadata": {
            "tags": []
          },
          "execution_count": 29
        }
      ]
    },
    {
      "cell_type": "code",
      "metadata": {
        "id": "tI22Hd2LaYsC",
        "colab": {
          "base_uri": "https://localhost:8080/"
        },
        "outputId": "0478ffdf-11e0-43a2-81cb-43bfd41a22d8"
      },
      "source": [
        "np.hsplit(the_chosen_20,4)[0]"
      ],
      "execution_count": null,
      "outputs": [
        {
          "output_type": "execute_result",
          "data": {
            "text/plain": [
              "array([[33.],\n",
              "       [38.],\n",
              "       [41.],\n",
              "       [69.],\n",
              "       [99.],\n",
              "       [75.],\n",
              "       [47.],\n",
              "       [66.],\n",
              "       [46.],\n",
              "       [49.],\n",
              "       [79.],\n",
              "       [50.],\n",
              "       [65.],\n",
              "       [ 4.],\n",
              "       [63.],\n",
              "       [81.],\n",
              "       [62.],\n",
              "       [52.],\n",
              "       [94.],\n",
              "       [ 7.]])"
            ]
          },
          "metadata": {
            "tags": []
          },
          "execution_count": 30
        }
      ]
    },
    {
      "cell_type": "code",
      "metadata": {
        "id": "cVrKXzFYbgbt",
        "colab": {
          "base_uri": "https://localhost:8080/"
        },
        "outputId": "505f7416-dcdf-413f-9872-7d8664e78115"
      },
      "source": [
        "## convert your array into a dataframe\n",
        "df = pd.DataFrame(np.hsplit(the_chosen_20,4)[0], columns=['id'])\n",
        "print(df)\n",
        "## save to xlsx file\n",
        "\n",
        "filepath = 'my_excel_file.xls'\n",
        "\n",
        "df.to_excel(filepath, index=False)"
      ],
      "execution_count": null,
      "outputs": [
        {
          "output_type": "stream",
          "text": [
            "      id\n",
            "0   33.0\n",
            "1   38.0\n",
            "2   41.0\n",
            "3   69.0\n",
            "4   99.0\n",
            "5   75.0\n",
            "6   47.0\n",
            "7   66.0\n",
            "8   46.0\n",
            "9   49.0\n",
            "10  79.0\n",
            "11  50.0\n",
            "12  65.0\n",
            "13   4.0\n",
            "14  63.0\n",
            "15  81.0\n",
            "16  62.0\n",
            "17  52.0\n",
            "18  94.0\n",
            "19   7.0\n"
          ],
          "name": "stdout"
        }
      ]
    },
    {
      "cell_type": "code",
      "metadata": {
        "id": "qLhuqvrWgG4p",
        "colab": {
          "base_uri": "https://localhost:8080/",
          "height": 669
        },
        "outputId": "476f9bbe-3d9c-4fc4-d1fc-12c9d41e1477"
      },
      "source": [
        "df"
      ],
      "execution_count": null,
      "outputs": [
        {
          "output_type": "execute_result",
          "data": {
            "text/html": [
              "<div>\n",
              "<style scoped>\n",
              "    .dataframe tbody tr th:only-of-type {\n",
              "        vertical-align: middle;\n",
              "    }\n",
              "\n",
              "    .dataframe tbody tr th {\n",
              "        vertical-align: top;\n",
              "    }\n",
              "\n",
              "    .dataframe thead th {\n",
              "        text-align: right;\n",
              "    }\n",
              "</style>\n",
              "<table border=\"1\" class=\"dataframe\">\n",
              "  <thead>\n",
              "    <tr style=\"text-align: right;\">\n",
              "      <th></th>\n",
              "      <th>id</th>\n",
              "    </tr>\n",
              "  </thead>\n",
              "  <tbody>\n",
              "    <tr>\n",
              "      <th>0</th>\n",
              "      <td>33.0</td>\n",
              "    </tr>\n",
              "    <tr>\n",
              "      <th>1</th>\n",
              "      <td>38.0</td>\n",
              "    </tr>\n",
              "    <tr>\n",
              "      <th>2</th>\n",
              "      <td>41.0</td>\n",
              "    </tr>\n",
              "    <tr>\n",
              "      <th>3</th>\n",
              "      <td>69.0</td>\n",
              "    </tr>\n",
              "    <tr>\n",
              "      <th>4</th>\n",
              "      <td>99.0</td>\n",
              "    </tr>\n",
              "    <tr>\n",
              "      <th>5</th>\n",
              "      <td>75.0</td>\n",
              "    </tr>\n",
              "    <tr>\n",
              "      <th>6</th>\n",
              "      <td>47.0</td>\n",
              "    </tr>\n",
              "    <tr>\n",
              "      <th>7</th>\n",
              "      <td>66.0</td>\n",
              "    </tr>\n",
              "    <tr>\n",
              "      <th>8</th>\n",
              "      <td>46.0</td>\n",
              "    </tr>\n",
              "    <tr>\n",
              "      <th>9</th>\n",
              "      <td>49.0</td>\n",
              "    </tr>\n",
              "    <tr>\n",
              "      <th>10</th>\n",
              "      <td>79.0</td>\n",
              "    </tr>\n",
              "    <tr>\n",
              "      <th>11</th>\n",
              "      <td>50.0</td>\n",
              "    </tr>\n",
              "    <tr>\n",
              "      <th>12</th>\n",
              "      <td>65.0</td>\n",
              "    </tr>\n",
              "    <tr>\n",
              "      <th>13</th>\n",
              "      <td>4.0</td>\n",
              "    </tr>\n",
              "    <tr>\n",
              "      <th>14</th>\n",
              "      <td>63.0</td>\n",
              "    </tr>\n",
              "    <tr>\n",
              "      <th>15</th>\n",
              "      <td>81.0</td>\n",
              "    </tr>\n",
              "    <tr>\n",
              "      <th>16</th>\n",
              "      <td>62.0</td>\n",
              "    </tr>\n",
              "    <tr>\n",
              "      <th>17</th>\n",
              "      <td>52.0</td>\n",
              "    </tr>\n",
              "    <tr>\n",
              "      <th>18</th>\n",
              "      <td>94.0</td>\n",
              "    </tr>\n",
              "    <tr>\n",
              "      <th>19</th>\n",
              "      <td>7.0</td>\n",
              "    </tr>\n",
              "  </tbody>\n",
              "</table>\n",
              "</div>"
            ],
            "text/plain": [
              "      id\n",
              "0   33.0\n",
              "1   38.0\n",
              "2   41.0\n",
              "3   69.0\n",
              "4   99.0\n",
              "5   75.0\n",
              "6   47.0\n",
              "7   66.0\n",
              "8   46.0\n",
              "9   49.0\n",
              "10  79.0\n",
              "11  50.0\n",
              "12  65.0\n",
              "13   4.0\n",
              "14  63.0\n",
              "15  81.0\n",
              "16  62.0\n",
              "17  52.0\n",
              "18  94.0\n",
              "19   7.0"
            ]
          },
          "metadata": {
            "tags": []
          },
          "execution_count": 32
        }
      ]
    },
    {
      "cell_type": "code",
      "metadata": {
        "id": "5Ivehw4Js6VL"
      },
      "source": [
        ""
      ],
      "execution_count": null,
      "outputs": []
    }
  ]
}